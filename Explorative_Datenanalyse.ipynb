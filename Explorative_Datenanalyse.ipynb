{
 "cells": [
  {
   "attachments": {},
   "cell_type": "markdown",
   "metadata": {},
   "source": [
    "# SAN - Praktische Arbeit (Marvel Universe Social Network)\n",
    "\n",
    "## Datenbeschaffung\n",
    "\n",
    "Die Daten haben wir [hier](https://www.kaggle.com/datasets/csanhueza/the-marvel-universe-social-network) auf Kaggle gefunden. Sie bestehen aus folgenden Dateien:\n",
    "- edges.csv\n",
    "- nodes.csv\n",
    "- hero-edge.csv\n",
    "\n",
    "## Explorative Datenanalyse\n",
    "\n",
    "Nachdem die Daten beschaffen wurden, sollen einfache Datenanalysen (Häufigkeitsanalyse, Statistiken, Daten-Visualisierungen...) helfen, die Daten besser zu verstehen und Unstimmigkeiten wie auch fehlende Werte in den Daten frühzeitig zu erkennen. Passen Sie wenn nötig ihre Programme zur Datensammlung und Daten-Transformationen an, wenn Sie Probleme mit der Datenqualität erkennen. Prüfen Sie auch (wenn möglich), ob die eingesammelten Daten plausibel sindund mit der Datenquelle / Realität (z.B: anhand einer Stichprobe) übereinstimmen. \n",
    "\n",
    "Mögliche Probleme: Dieser Schritt ist wichtig, ist aber schlussendlich im Bewertungsraster im Vergleich zu anderen Kriterien nur schwach gewichtet. Ich empfehle die Nutzung einer Python-Library wie z.B. Pandas Profiling oder Sweetviz, welche das Leben für die explorative Datenanalyse erheblich vereinfacht. Soziale Netzwerkanalyse In der Analysephase das das eingesammelte Netzwerk / die eingesammelten Netzwerke analysiert. Im Meilenstein haben Sie sich überlegen, welche Analysen Sie auf dem Netzwerk ausführen möchten. Es sollten verschiedene Analysen aus dem SAN-Unterricht sein. Sie dürfen aber gerne auch nicht im Unterricht behandelte Netzwerk-Analysen durchführen. Es ist auch gut möglich, dass Sie plötzlich im zweiten Teil noch weitere Ideen für Analysen haben, die Sie nicht im Meilenstein erwähnt haben.Diese dürfen Sie gerne umsetzen."
   ]
  },
  {
   "cell_type": "code",
   "execution_count": 3,
   "metadata": {},
   "outputs": [],
   "source": [
    "import os\n",
    "import sys\n",
    "import pandas as pd\n",
    "import networkx as nx\n",
    "from networkx.algorithms import bipartite\n",
    "from pandas_profiling import ydata_profiling\n",
    "import sweetviz as sv\n",
    "\n",
    "from helper import *"
   ]
  },
  {
   "attachments": {},
   "cell_type": "markdown",
   "metadata": {},
   "source": [
    "## Daten einlesen und betrachten"
   ]
  },
  {
   "cell_type": "code",
   "execution_count": 4,
   "metadata": {},
   "outputs": [
    {
     "name": "stdout",
     "output_type": "stream",
     "text": [
      "                   node   type\n",
      "0               2001 10  comic\n",
      "1                2001 8  comic\n",
      "2                2001 9  comic\n",
      "3  24-HOUR MAN/EMMANUEL   hero\n",
      "4  3-D MAN/CHARLES CHAN   hero\n",
      "                   hero   comic\n",
      "0  24-HOUR MAN/EMMANUEL  AA2 35\n",
      "1  3-D MAN/CHARLES CHAN   AVF 4\n",
      "2  3-D MAN/CHARLES CHAN   AVF 5\n",
      "3  3-D MAN/CHARLES CHAN   COC 1\n",
      "4  3-D MAN/CHARLES CHAN  H2 251\n"
     ]
    }
   ],
   "source": [
    "df_nodes = pd.read_csv('Daten/nodes.csv')\n",
    "df_edges = pd.read_csv('Daten/edges.csv')\n",
    "\n",
    "print(df_nodes.head())\n",
    "print(df_edges.head())"
   ]
  },
  {
   "cell_type": "code",
   "execution_count": 5,
   "metadata": {},
   "outputs": [
    {
     "data": {
      "text/plain": [
       "(['node', 'type'], ['hero', 'comic'])"
      ]
     },
     "execution_count": 5,
     "metadata": {},
     "output_type": "execute_result"
    }
   ],
   "source": [
    "# Attribute der Knoten und Kanten identifizieren\n",
    "node_attributes = df_nodes.columns.tolist()\n",
    "edge_attributes = df_edges.columns.tolist()\n",
    "\n",
    "node_attributes, edge_attributes"
   ]
  },
  {
   "cell_type": "code",
   "execution_count": 6,
   "metadata": {},
   "outputs": [
    {
     "data": {
      "text/plain": [
       "(6439, 12651)"
      ]
     },
     "execution_count": 6,
     "metadata": {},
     "output_type": "execute_result"
    }
   ],
   "source": [
    "# Anzahl der einzigartigen Helden und Comics ermitteln\n",
    "unique_heroes = df_nodes[df_nodes['type'] == 'hero']['node'].nunique()\n",
    "unique_comics = df_nodes[df_nodes['type'] == 'comic']['node'].nunique()\n",
    "\n",
    "unique_heroes, unique_comics"
   ]
  },
  {
   "cell_type": "code",
   "execution_count": 7,
   "metadata": {},
   "outputs": [
    {
     "data": {
      "text/html": [
       "<div>\n",
       "<style scoped>\n",
       "    .dataframe tbody tr th:only-of-type {\n",
       "        vertical-align: middle;\n",
       "    }\n",
       "\n",
       "    .dataframe tbody tr th {\n",
       "        vertical-align: top;\n",
       "    }\n",
       "\n",
       "    .dataframe thead th {\n",
       "        text-align: right;\n",
       "    }\n",
       "</style>\n",
       "<table border=\"1\" class=\"dataframe\">\n",
       "  <thead>\n",
       "    <tr style=\"text-align: right;\">\n",
       "      <th></th>\n",
       "      <th>node</th>\n",
       "      <th>type</th>\n",
       "    </tr>\n",
       "  </thead>\n",
       "  <tbody>\n",
       "    <tr>\n",
       "      <th>0</th>\n",
       "      <td>2001 10</td>\n",
       "      <td>comic</td>\n",
       "    </tr>\n",
       "    <tr>\n",
       "      <th>1</th>\n",
       "      <td>2001 8</td>\n",
       "      <td>comic</td>\n",
       "    </tr>\n",
       "    <tr>\n",
       "      <th>2</th>\n",
       "      <td>2001 9</td>\n",
       "      <td>comic</td>\n",
       "    </tr>\n",
       "    <tr>\n",
       "      <th>7</th>\n",
       "      <td>A '00</td>\n",
       "      <td>comic</td>\n",
       "    </tr>\n",
       "    <tr>\n",
       "      <th>8</th>\n",
       "      <td>A '01</td>\n",
       "      <td>comic</td>\n",
       "    </tr>\n",
       "    <tr>\n",
       "      <th>...</th>\n",
       "      <td>...</td>\n",
       "      <td>...</td>\n",
       "    </tr>\n",
       "    <tr>\n",
       "      <th>19021</th>\n",
       "      <td>YOUNG MEN 24</td>\n",
       "      <td>comic</td>\n",
       "    </tr>\n",
       "    <tr>\n",
       "      <th>19022</th>\n",
       "      <td>YOUNG MEN 25</td>\n",
       "      <td>comic</td>\n",
       "    </tr>\n",
       "    <tr>\n",
       "      <th>19023</th>\n",
       "      <td>YOUNG MEN 26</td>\n",
       "      <td>comic</td>\n",
       "    </tr>\n",
       "    <tr>\n",
       "      <th>19024</th>\n",
       "      <td>YOUNG MEN 27</td>\n",
       "      <td>comic</td>\n",
       "    </tr>\n",
       "    <tr>\n",
       "      <th>19025</th>\n",
       "      <td>YOUNG MEN 28</td>\n",
       "      <td>comic</td>\n",
       "    </tr>\n",
       "  </tbody>\n",
       "</table>\n",
       "<p>12651 rows × 2 columns</p>\n",
       "</div>"
      ],
      "text/plain": [
       "               node   type\n",
       "0           2001 10  comic\n",
       "1            2001 8  comic\n",
       "2            2001 9  comic\n",
       "7             A '00  comic\n",
       "8             A '01  comic\n",
       "...             ...    ...\n",
       "19021  YOUNG MEN 24  comic\n",
       "19022  YOUNG MEN 25  comic\n",
       "19023  YOUNG MEN 26  comic\n",
       "19024  YOUNG MEN 27  comic\n",
       "19025  YOUNG MEN 28  comic\n",
       "\n",
       "[12651 rows x 2 columns]"
      ]
     },
     "execution_count": 7,
     "metadata": {},
     "output_type": "execute_result"
    }
   ],
   "source": [
    "# show all nodes with type comic\n",
    "df_nodes[df_nodes['type'] == 'comic']"
   ]
  },
  {
   "attachments": {},
   "cell_type": "markdown",
   "metadata": {},
   "source": [
    "Wir sehen, dass nicht alle comic namen jahren haben"
   ]
  },
  {
   "cell_type": "code",
   "execution_count": 8,
   "metadata": {},
   "outputs": [
    {
     "data": {
      "text/plain": [
       "{'duplicate_nodes': 0,\n",
       " 'nodes_without_type': 0,\n",
       " 'unique_types': ['comic', 'hero'],\n",
       " 'invalid_edges_hero_hero': 0,\n",
       " 'invalid_edges_comic_comic': 0}"
      ]
     },
     "execution_count": 8,
     "metadata": {},
     "output_type": "execute_result"
    }
   ],
   "source": [
    "# 1. Überprüfen Sie, ob es Duplikate im `node` Attribut gibt.\n",
    "duplicate_nodes = df_nodes[df_nodes.duplicated(subset=['node'], keep=False)]\n",
    "\n",
    "# 2. Überprüfen Sie, ob es Knoten ohne den `type` Attribut gibt oder ob es unerwartete Typwerte gibt.\n",
    "nodes_without_type = df_nodes[df_nodes['type'].isnull()]\n",
    "unique_types = df_nodes['type'].unique()\n",
    "\n",
    "# 3. Überprüfen Sie, ob es Kanten gibt, die zwei Helden oder zwei Comics verbinden.\n",
    "# Zuerst erstellen wir ein Set von Helden und Comics\n",
    "heroes_set = set(df_nodes[df_nodes['type'] == 'hero']['node'])\n",
    "comics_set = set(df_nodes[df_nodes['type'] == 'comic']['node'])\n",
    "\n",
    "# Überprüfen Sie, ob beide Enden der Kante im Helden-Set oder im Comic-Set sind\n",
    "invalid_edges_hero_hero = df_edges[(df_edges['hero'].isin(heroes_set)) & (df_edges['comic'].isin(heroes_set))]\n",
    "invalid_edges_comic_comic = df_edges[(df_edges['hero'].isin(comics_set)) & (df_edges['comic'].isin(comics_set))]\n",
    "\n",
    "# Zusammenfassung\n",
    "{\n",
    "    \"duplicate_nodes\": duplicate_nodes.shape[0],\n",
    "    \"nodes_without_type\": nodes_without_type.shape[0],\n",
    "    \"unique_types\": list(unique_types),\n",
    "    \"invalid_edges_hero_hero\": invalid_edges_hero_hero.shape[0],\n",
    "    \"invalid_edges_comic_comic\": invalid_edges_comic_comic.shape[0]\n",
    "}"
   ]
  },
  {
   "attachments": {},
   "cell_type": "markdown",
   "metadata": {},
   "source": [
    "Basierend auf diesen Ergebnissen scheint die Datenqualität insgesamt gut zu sein, zumindest in Bezug auf die Punkte, die wir überprüft haben."
   ]
  },
  {
   "attachments": {},
   "cell_type": "markdown",
   "metadata": {},
   "source": [
    "## NetworkX-Graph erstellen\n",
    "### Two-Mode"
   ]
  },
  {
   "cell_type": "code",
   "execution_count": 9,
   "metadata": {},
   "outputs": [],
   "source": [
    "G_two_mode = nx.Graph(name = 'Two Mode Graph')\n",
    "\n",
    "# Knoten hinzufügen\n",
    "for index, row in df_nodes.iterrows():\n",
    "    G_two_mode.add_node(row['node'], type=row['type'])\n",
    "\n",
    "# Kanten hinzufügen\n",
    "for index, row in df_edges.iterrows():\n",
    "    G_two_mode.add_edge(row['hero'], row['comic'])"
   ]
  },
  {
   "cell_type": "code",
   "execution_count": 10,
   "metadata": {},
   "outputs": [
    {
     "name": "stdout",
     "output_type": "stream",
     "text": [
      "Information for given Graph with name 'Two Mode Graph':\n",
      "\tGraph is directed: False\n",
      "\tNumber of nodes: 19091\n",
      "\tNumber of edges: 96104\n"
     ]
    }
   ],
   "source": [
    "print_network_information(G_two_mode)"
   ]
  },
  {
   "attachments": {},
   "cell_type": "markdown",
   "metadata": {},
   "source": [
    "### One-Mode"
   ]
  },
  {
   "cell_type": "code",
   "execution_count": 11,
   "metadata": {},
   "outputs": [
    {
     "name": "stdout",
     "output_type": "stream",
     "text": [
      "Information for given Graph with name 'One Mode Graph':\n",
      "\tGraph is directed: False\n",
      "\tNumber of nodes: 6440\n",
      "\tNumber of edges: 171644\n"
     ]
    }
   ],
   "source": [
    "# Konvertiere das bipartite Netzwerk in ein One-Mode-Netzwerk\n",
    "G_one_mode = nx.projected_graph(G_two_mode, [node for node, data in G_two_mode.nodes(data=True) if data.get('type') == 'hero'])\n",
    "G_one_mode.name = 'One Mode Graph'\n",
    "\n",
    "print_network_information(G_one_mode)"
   ]
  }
 ],
 "metadata": {
  "kernelspec": {
   "display_name": "base",
   "language": "python",
   "name": "python3"
  },
  "language_info": {
   "codemirror_mode": {
    "name": "ipython",
    "version": 3
   },
   "file_extension": ".py",
   "mimetype": "text/x-python",
   "name": "python",
   "nbconvert_exporter": "python",
   "pygments_lexer": "ipython3",
   "version": "3.11.5"
  },
  "orig_nbformat": 4,
  "vscode": {
   "interpreter": {
    "hash": "cd9c78cbb62892232a2e8cf9a4bd699d988202e949c50bb9be5232199c394801"
   }
  }
 },
 "nbformat": 4,
 "nbformat_minor": 2
}
