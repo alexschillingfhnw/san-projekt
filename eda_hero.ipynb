{
 "cells": [
  {
   "cell_type": "code",
   "execution_count": 19,
   "id": "initial_id",
   "metadata": {
    "collapsed": true,
    "ExecuteTime": {
     "end_time": "2023-12-08T09:54:30.424679400Z",
     "start_time": "2023-12-08T09:54:29.710772900Z"
    }
   },
   "outputs": [],
   "source": [
    "import os\n",
    "import sys\n",
    "import pandas as pd\n",
    "import networkx as nx\n",
    "from networkx.algorithms import bipartite\n",
    "import matplotlib.pyplot as plt\n"
   ]
  },
  {
   "cell_type": "code",
   "execution_count": 20,
   "outputs": [
    {
     "data": {
      "text/plain": "                  hero1                 hero2\n0         LITTLE, ABNER        PRINCESS ZANDA\n1         LITTLE, ABNER  BLACK PANTHER/T'CHAL\n2  BLACK PANTHER/T'CHAL        PRINCESS ZANDA\n3         LITTLE, ABNER        PRINCESS ZANDA\n4         LITTLE, ABNER  BLACK PANTHER/T'CHAL",
      "text/html": "<div>\n<style scoped>\n    .dataframe tbody tr th:only-of-type {\n        vertical-align: middle;\n    }\n\n    .dataframe tbody tr th {\n        vertical-align: top;\n    }\n\n    .dataframe thead th {\n        text-align: right;\n    }\n</style>\n<table border=\"1\" class=\"dataframe\">\n  <thead>\n    <tr style=\"text-align: right;\">\n      <th></th>\n      <th>hero1</th>\n      <th>hero2</th>\n    </tr>\n  </thead>\n  <tbody>\n    <tr>\n      <th>0</th>\n      <td>LITTLE, ABNER</td>\n      <td>PRINCESS ZANDA</td>\n    </tr>\n    <tr>\n      <th>1</th>\n      <td>LITTLE, ABNER</td>\n      <td>BLACK PANTHER/T'CHAL</td>\n    </tr>\n    <tr>\n      <th>2</th>\n      <td>BLACK PANTHER/T'CHAL</td>\n      <td>PRINCESS ZANDA</td>\n    </tr>\n    <tr>\n      <th>3</th>\n      <td>LITTLE, ABNER</td>\n      <td>PRINCESS ZANDA</td>\n    </tr>\n    <tr>\n      <th>4</th>\n      <td>LITTLE, ABNER</td>\n      <td>BLACK PANTHER/T'CHAL</td>\n    </tr>\n  </tbody>\n</table>\n</div>"
     },
     "execution_count": 20,
     "metadata": {},
     "output_type": "execute_result"
    }
   ],
   "source": [
    "# Read in the data\n",
    "nodes = pd.read_csv('Daten/nodes.csv')\n",
    "edges = pd.read_csv('Daten/edges.csv')\n",
    "hero_network = pd.read_csv('Daten/hero-network.csv')\n",
    "hero_network.head()"
   ],
   "metadata": {
    "collapsed": false,
    "ExecuteTime": {
     "end_time": "2023-12-08T09:54:30.862749Z",
     "start_time": "2023-12-08T09:54:30.429994600Z"
    }
   },
   "id": "745c414e27428705"
  },
  {
   "cell_type": "code",
   "execution_count": 21,
   "outputs": [
    {
     "data": {
      "text/plain": "hero1\nCAPTAIN AMERICA         8149\nSPIDER-MAN/PETER PAR    6652\nIRON MAN/TONY STARK     5850\nTHOR/DR. DONALD BLAK    5712\nTHING/BENJAMIN J. GR    5369\nWOLVERINE/LOGAN         5230\nSCARLET WITCH/WANDA     5184\nVISION                  5067\nHUMAN TORCH/JOHNNY S    4970\nMR. FANTASTIC/REED R    4788\nName: count, dtype: int64"
     },
     "execution_count": 21,
     "metadata": {},
     "output_type": "execute_result"
    }
   ],
   "source": [
    "#how many times hero in hero1\n",
    "hero1_counts = hero_network['hero1'].value_counts().head(10)\n",
    "hero1_counts"
   ],
   "metadata": {
    "collapsed": false,
    "ExecuteTime": {
     "end_time": "2023-12-08T09:54:30.997487800Z",
     "start_time": "2023-12-08T09:54:30.855530900Z"
    }
   },
   "id": "960191e2f054b072"
  },
  {
   "cell_type": "code",
   "execution_count": 22,
   "outputs": [
    {
     "data": {
      "text/plain": "hero2\nCAPTAIN AMERICA         8350\nSPIDER-MAN/PETER PAR    7065\nIRON MAN/TONY STARK     5967\nTHOR/DR. DONALD BLAK    5715\nTHING/BENJAMIN J. GR    5312\nHUMAN TORCH/JOHNNY S    5267\nWOLVERINE/LOGAN         5123\nMR. FANTASTIC/REED R    4987\nSCARLET WITCH/WANDA     4727\nBEAST/HENRY &HANK& P    4659\nName: count, dtype: int64"
     },
     "execution_count": 22,
     "metadata": {},
     "output_type": "execute_result"
    }
   ],
   "source": [
    "#how many times hero in hero2\n",
    "hero2_counts = hero_network['hero2'].value_counts().head(10)\n",
    "hero2_counts"
   ],
   "metadata": {
    "collapsed": false,
    "ExecuteTime": {
     "end_time": "2023-12-08T09:54:31.038283200Z",
     "start_time": "2023-12-08T09:54:30.908954400Z"
    }
   },
   "id": "55954a9324e06b3f"
  },
  {
   "cell_type": "markdown",
   "source": [
    "Capt. America, Spider-Man und Iron Man, highlighten die zentralen 3 Charaktere in den Comics. Diese Erkenntnis reflektiert deren hohes Aufkommen in verschiedenen Comics."
   ],
   "metadata": {
    "collapsed": false
   },
   "id": "15015387ee30f007"
  },
  {
   "cell_type": "code",
   "execution_count": 24,
   "outputs": [],
   "source": [],
   "metadata": {
    "collapsed": false,
    "ExecuteTime": {
     "end_time": "2023-12-08T10:36:45.213157300Z",
     "start_time": "2023-12-08T10:36:45.077508600Z"
    }
   },
   "id": "5744ca9ff8e16957"
  },
  {
   "cell_type": "code",
   "execution_count": 24,
   "outputs": [],
   "source": [],
   "metadata": {
    "collapsed": false,
    "ExecuteTime": {
     "end_time": "2023-12-08T09:54:32.267766500Z",
     "start_time": "2023-12-08T09:54:32.254753100Z"
    }
   },
   "id": "dec78ac9e81654c3"
  }
 ],
 "metadata": {
  "kernelspec": {
   "display_name": "Python 3",
   "language": "python",
   "name": "python3"
  },
  "language_info": {
   "codemirror_mode": {
    "name": "ipython",
    "version": 2
   },
   "file_extension": ".py",
   "mimetype": "text/x-python",
   "name": "python",
   "nbconvert_exporter": "python",
   "pygments_lexer": "ipython2",
   "version": "2.7.6"
  }
 },
 "nbformat": 4,
 "nbformat_minor": 5
}
