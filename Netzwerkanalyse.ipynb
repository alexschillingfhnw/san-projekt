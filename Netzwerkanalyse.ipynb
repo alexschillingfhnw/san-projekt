{
 "cells": [
  {
   "attachments": {},
   "cell_type": "markdown",
   "metadata": {},
   "source": [
    "# SAN - Praktische Arbeit (Marvel Universe Social Network)\n",
    "\n",
    "## Netzwerkanalyse"
   ]
  },
  {
   "cell_type": "code",
   "execution_count": 13,
   "metadata": {},
   "outputs": [],
   "source": [
    "import os\n",
    "import sys\n",
    "import pandas as pd\n",
    "import networkx as nx\n",
    "from networkx.algorithms import bipartite\n",
    "\n",
    "from helper import *"
   ]
  },
  {
   "attachments": {},
   "cell_type": "markdown",
   "metadata": {},
   "source": [
    "## Daten einlesen"
   ]
  },
  {
   "cell_type": "code",
   "execution_count": 14,
   "metadata": {},
   "outputs": [
    {
     "name": "stdout",
     "output_type": "stream",
     "text": [
      "                   node   type\n",
      "0               2001 10  comic\n",
      "1                2001 8  comic\n",
      "2                2001 9  comic\n",
      "3  24-HOUR MAN/EMMANUEL   hero\n",
      "4  3-D MAN/CHARLES CHAN   hero\n",
      "                   hero   comic\n",
      "0  24-HOUR MAN/EMMANUEL  AA2 35\n",
      "1  3-D MAN/CHARLES CHAN   AVF 4\n",
      "2  3-D MAN/CHARLES CHAN   AVF 5\n",
      "3  3-D MAN/CHARLES CHAN   COC 1\n",
      "4  3-D MAN/CHARLES CHAN  H2 251\n"
     ]
    }
   ],
   "source": [
    "df_nodes = pd.read_csv('Daten/nodes.csv')\n",
    "df_edges = pd.read_csv('Daten/edges.csv')\n",
    "\n",
    "print(df_nodes.head())\n",
    "print(df_edges.head())"
   ]
  }
 ],
 "metadata": {
  "kernelspec": {
   "display_name": "base",
   "language": "python",
   "name": "python3"
  },
  "language_info": {
   "codemirror_mode": {
    "name": "ipython",
    "version": 3
   },
   "file_extension": ".py",
   "mimetype": "text/x-python",
   "name": "python",
   "nbconvert_exporter": "python",
   "pygments_lexer": "ipython3",
   "version": "3.11.5"
  },
  "orig_nbformat": 4,
  "vscode": {
   "interpreter": {
    "hash": "cd9c78cbb62892232a2e8cf9a4bd699d988202e949c50bb9be5232199c394801"
   }
  }
 },
 "nbformat": 4,
 "nbformat_minor": 2
}
